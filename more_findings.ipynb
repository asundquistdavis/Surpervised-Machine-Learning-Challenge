{
 "cells": [
  {
   "cell_type": "code",
   "execution_count": 1,
   "id": "afe92f23",
   "metadata": {},
   "outputs": [],
   "source": [
    "import math\n",
    "def std(ar):\n",
    "    l = len(ar)\n",
    "    m = sum(ar)/l\n",
    "    vs = [(x-m)*(x-m) for x in ar]\n",
    "    return math.sqrt(sum(vs)/l)"
   ]
  },
  {
   "cell_type": "code",
   "execution_count": 4,
   "id": "61285f5b",
   "metadata": {},
   "outputs": [],
   "source": [
    "def trials(n=10, model='LR', scaling=False):\n",
    "    path = 'Resources/lending_data.csv'\n",
    "    import pandas as pd\n",
    "    from sklearn.preprocessing import StandardScaler as SS\n",
    "    from sklearn.model_selection import train_test_split as tts\n",
    "    from sklearn.linear_model import LogisticRegression as LR\n",
    "    from sklearn.ensemble import RandomForestClassifier as RFC\n",
    "    models = {'LR': LR, 'RFC': RFC}\n",
    "    accs = []\n",
    "    for _ in range(n):\n",
    "        _X, X_, _y, y_ = tts(pd.read_csv(path).drop('loan_status', axis=1), pd.read_csv(path)['loan_status'])\n",
    "        if scaling==True:\n",
    "            ss = SS()\n",
    "            _X = ss.fit_transform(_X)\n",
    "            X_ = ss.transform(X_)\n",
    "        fit = models[model]()\n",
    "        accs.append(fit.fit(_X, _y).score(X_, y_))\n",
    "    return [sum(accs)/len(accs)*100, std(accs)*100]"
   ]
  },
  {
   "cell_type": "code",
   "execution_count": 5,
   "id": "cf5ba8c7",
   "metadata": {},
   "outputs": [
    {
     "data": {
      "text/plain": [
       "[99.21017333883613, 0.06604391754029769]"
      ]
     },
     "execution_count": 5,
     "metadata": {},
     "output_type": "execute_result"
    }
   ],
   "source": [
    "trials(model='RFC', scaling=True)"
   ]
  },
  {
   "cell_type": "code",
   "execution_count": 6,
   "id": "9905da79",
   "metadata": {},
   "outputs": [
    {
     "data": {
      "text/plain": [
       "[99.20604622368965, 0.06872955682973467]"
      ]
     },
     "execution_count": 6,
     "metadata": {},
     "output_type": "execute_result"
    }
   ],
   "source": [
    "trials(model='RFC', scaling=False)"
   ]
  },
  {
   "cell_type": "code",
   "execution_count": 7,
   "id": "a7447274",
   "metadata": {},
   "outputs": [
    {
     "data": {
      "text/plain": [
       "[99.41962443252166, 0.040572003180009766]"
      ]
     },
     "execution_count": 7,
     "metadata": {},
     "output_type": "execute_result"
    }
   ],
   "source": [
    "trials(model='LR', scaling=True)"
   ]
  },
  {
   "cell_type": "code",
   "execution_count": 8,
   "id": "b1f51ec0",
   "metadata": {},
   "outputs": [
    {
     "data": {
      "text/plain": [
       "[99.19830788278993, 0.04801929953867205]"
      ]
     },
     "execution_count": 8,
     "metadata": {},
     "output_type": "execute_result"
    }
   ],
   "source": [
    "trials(model='LR', scaling=False)"
   ]
  },
  {
   "cell_type": "code",
   "execution_count": null,
   "id": "9d4c0eb9",
   "metadata": {},
   "outputs": [],
   "source": []
  }
 ],
 "metadata": {
  "kernelspec": {
   "display_name": "Python 3 (ipykernel)",
   "language": "python",
   "name": "python3"
  },
  "language_info": {
   "codemirror_mode": {
    "name": "ipython",
    "version": 3
   },
   "file_extension": ".py",
   "mimetype": "text/x-python",
   "name": "python",
   "nbconvert_exporter": "python",
   "pygments_lexer": "ipython3",
   "version": "3.8.13"
  }
 },
 "nbformat": 4,
 "nbformat_minor": 5
}
