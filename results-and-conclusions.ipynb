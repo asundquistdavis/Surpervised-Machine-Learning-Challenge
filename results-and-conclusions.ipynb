{
 "cells": [
  {
   "cell_type": "markdown",
   "id": "3d88f920",
   "metadata": {},
   "source": [
    "## Results"
   ]
  },
  {
   "cell_type": "code",
   "execution_count": 1,
   "id": "b3200cda",
   "metadata": {},
   "outputs": [
    {
     "data": {
      "text/html": [
       "<div>\n",
       "<style scoped>\n",
       "    .dataframe tbody tr th:only-of-type {\n",
       "        vertical-align: middle;\n",
       "    }\n",
       "\n",
       "    .dataframe tbody tr th {\n",
       "        vertical-align: top;\n",
       "    }\n",
       "\n",
       "    .dataframe thead th {\n",
       "        text-align: right;\n",
       "    }\n",
       "</style>\n",
       "<table border=\"1\" class=\"dataframe\">\n",
       "  <thead>\n",
       "    <tr style=\"text-align: right;\">\n",
       "      <th></th>\n",
       "      <th>Accuracy</th>\n",
       "      <th>Negative F1</th>\n",
       "      <th>Positive F1</th>\n",
       "    </tr>\n",
       "  </thead>\n",
       "  <tbody>\n",
       "    <tr>\n",
       "      <th>Logistic Model without Scaling</th>\n",
       "      <td>0.9916</td>\n",
       "      <td>1.0</td>\n",
       "      <td>0.88</td>\n",
       "    </tr>\n",
       "    <tr>\n",
       "      <th>Logistic Model with Scaling</th>\n",
       "      <td>0.9953</td>\n",
       "      <td>1.0</td>\n",
       "      <td>0.93</td>\n",
       "    </tr>\n",
       "    <tr>\n",
       "      <th>Random Forest Model</th>\n",
       "      <td>0.9919</td>\n",
       "      <td>1.0</td>\n",
       "      <td>0.88</td>\n",
       "    </tr>\n",
       "  </tbody>\n",
       "</table>\n",
       "</div>"
      ],
      "text/plain": [
       "                                Accuracy  Negative F1  Positive F1\n",
       "Logistic Model without Scaling    0.9916          1.0         0.88\n",
       "Logistic Model with Scaling       0.9953          1.0         0.93\n",
       "Random Forest Model               0.9919          1.0         0.88"
      ]
     },
     "execution_count": 1,
     "metadata": {},
     "output_type": "execute_result"
    }
   ],
   "source": [
    "# print results from the three notebooks\n",
    "import pandas as pd\n",
    "results = pd.DataFrame({'Accuracy': [0.9916, 0.9953, 0.9919], 'Negative F1': [1.00, 1.00, 1.00], 'Positive F1': [0.88, 0.93, 0.88]}, index=['Logistic Model without Scaling', 'Logistic Model with Scaling', 'Random Forest Model'])\n",
    "results"
   ]
  },
  {
   "cell_type": "markdown",
   "id": "66d15817",
   "metadata": {},
   "source": [
    "## Conclusions\n",
    "Overall, the three models performed similarly, all scoring above 99% accuracy. The initial prediction of the random forest model beating the basic logistic regression with no scaling seems to be correct. Also matching the predictions, the logistic model with scaling looks to perform the best. However it is important to point out that the accuracy scores for all of the models differ by less than 1% and there is probably not a statistical difference in the results. In other words, all of the models are performing more or less the same. There may be a slight preference to the logistic model with scaling, over the other two, as it performs about 5% better in predicting defaulting loans in terms of F1 (recall and precision show similar results)."
   ]
  }
 ],
 "metadata": {
  "kernelspec": {
   "display_name": "Python 3 (ipykernel)",
   "language": "python",
   "name": "python3"
  },
  "language_info": {
   "codemirror_mode": {
    "name": "ipython",
    "version": 3
   },
   "file_extension": ".py",
   "mimetype": "text/x-python",
   "name": "python",
   "nbconvert_exporter": "python",
   "pygments_lexer": "ipython3",
   "version": "3.8.13"
  }
 },
 "nbformat": 4,
 "nbformat_minor": 5
}
